{
 "cells": [
  {
   "cell_type": "markdown",
   "id": "c9e54546",
   "metadata": {},
   "source": [
    "# Info\n",
    "The 'Sentinel-5P NRTI NO2: Near Real-Time Nitrogen Dioxide' dataset is used for the present analysis. The dataset is directly imported from the Google Earth Engine's (GEE) Image collection. A python package(geemap) of GEE API has been used for the analysis."
   ]
  },
  {
   "cell_type": "code",
   "execution_count": null,
   "id": "5ff3f162",
   "metadata": {},
   "outputs": [],
   "source": [
    "import geemap   # Please update the geemap package for a better experience\n",
    "import ee\n",
    "import os\n",
    "#ee.Authenticate()   # For very first time user Authentication is required\n",
    "ee.Initialize()"
   ]
  },
  {
   "cell_type": "code",
   "execution_count": null,
   "id": "518a4a8e",
   "metadata": {},
   "outputs": [],
   "source": [
    "Map = geemap.Map(center = [23, 79], zoom=4)\n",
    "Map"
   ]
  },
  {
   "cell_type": "markdown",
   "id": "b39afaa9",
   "metadata": {},
   "source": [
    "# NO2 Analysis over India"
   ]
  },
  {
   "cell_type": "code",
   "execution_count": null,
   "id": "e50f645e",
   "metadata": {},
   "outputs": [],
   "source": [
    "# Importing the India shapefile and adding to map as a layer\n",
    "IND_shp = 'Input/india_SHP.shp'\n",
    "India = geemap.shp_to_ee(IND_shp)\n",
    "\n",
    "Map.addLayer(India, {}, 'IND')"
   ]
  },
  {
   "cell_type": "code",
   "execution_count": null,
   "id": "a73539cd",
   "metadata": {},
   "outputs": [],
   "source": [
    "##Importing NO2 data (tropospheric NO2 column number density in mol/m^2) from GEE Image collection\n",
    "NO2 = ee.ImageCollection('COPERNICUS/S5P/NRTI/L3_NO2').select('tropospheric_NO2_column_number_density')"
   ]
  },
  {
   "cell_type": "code",
   "execution_count": null,
   "id": "076e93b0",
   "metadata": {},
   "outputs": [],
   "source": [
    "##Long term analysis (comparison of 2019 and 2020)\n",
    "NO2_2019 = NO2.filterDate('2019-01-01', '2019-12-31').mean().multiply(1e6).clip(India) # converted from mol/m^2 into µmol/m^2\n",
    "NO2_2020 = NO2.filterDate('2020-01-01', '2020-12-31').mean().multiply(1e6).clip(India)"
   ]
  },
  {
   "cell_type": "code",
   "execution_count": null,
   "id": "be644de4",
   "metadata": {},
   "outputs": [],
   "source": [
    "vizParams = {\n",
    "  'min': 0,\n",
    "  'max': 100,\n",
    "  'palette': ['blue','aqua',  'yellow', 'orange', 'red']\n",
    "}\n",
    "\n",
    "Map.addLayer(NO2_2019, vizParams, 'NO2_2019')\n",
    "Map.addLayer(NO2_2020, vizParams, 'NO2_2020')\n",
    "palette = ['blue','aqua', 'yellow', 'orange', 'red']\n",
    "Map.add_colorbar(palette, vmin=0, vmax=100, layer_name='NO2', position='bottomright')\n",
    "\n",
    "## All layers can be visulaize using the layer tool at the top-right corner of map"
   ]
  },
  {
   "cell_type": "code",
   "execution_count": null,
   "id": "15eb736a",
   "metadata": {},
   "outputs": [],
   "source": [
    "# Lockdown was imposed for a short time-period but its impact can be experienced for the whole year 2020\n",
    "# A comparision of NO2 concentration for years 2019 and 2020\n",
    "left_layer = geemap.ee_tile_layer(NO2_2019, vizParams, 'NO2 2019')\n",
    "right_layer = geemap.ee_tile_layer(NO2_2020, vizParams, 'NO2 2020')\n",
    "\n",
    "Map_1 = geemap.Map(center = [23, 79], zoom=4)\n",
    "Map_1.split_map(left_layer, right_layer)\n",
    "Map_1"
   ]
  },
  {
   "cell_type": "code",
   "execution_count": null,
   "id": "1d7cd633",
   "metadata": {},
   "outputs": [],
   "source": [
    "# Exporting the maps\n",
    "# All files will automatically downloaded in user's Download folder or one can also download by clicking the link at the desired location.\n",
    "\n",
    "out_dir = os.path.join(os.path.expanduser('~'), 'Downloads')\n",
    "filename_1 = os.path.join(out_dir, 'NO2_2019.tif')\n",
    "filename_2= os.path.join(out_dir, 'NO2_2020.tif')\n",
    "roi = India.geometry()\n",
    "\n",
    "geemap.ee_export_image(NO2_2019, filename=filename_1, scale= 5000, region=roi ,file_per_band=False) #reducing the scale from 1000m to 5000m to avoid the computational error\n",
    "geemap.ee_export_image(NO2_2020, filename=filename_2, scale= 5000, region=roi ,file_per_band=False)\n",
    "\n",
    "# Additionally, We can directly Export Maps to Google drive\n",
    "#geemap.ee_export_image_to_drive(NO2_2019, description='NO2_2019', folder='GeeMap', region=India, scale=1000)\n",
    "#geemap.ee_export_image_to_drive(NO2_2020, description='NO2_2020', folder='GeeMap', region=India, scale=1000)"
   ]
  },
  {
   "cell_type": "code",
   "execution_count": null,
   "id": "4b0bb774",
   "metadata": {},
   "outputs": [],
   "source": [
    "## Lockdown was imposed between 25 March to 31 May in four phases, so 25 March to 31 May period is taken for the analysis\n",
    "\n",
    "lock_2019 = NO2.filterDate('2019-03-25', '2019-05-31').mean().multiply(1e6).clip(India)\n",
    "lock_2020 = NO2.filterDate('2020-03-25', '2020-05-31').mean().multiply(1e6).clip(India)\n",
    "\n",
    "Map.addLayer(lock_2019, vizParams, 'lock_2019')\n",
    "Map.addLayer(lock_2020, vizParams, 'lock_2020')"
   ]
  },
  {
   "cell_type": "code",
   "execution_count": null,
   "id": "f05330eb",
   "metadata": {},
   "outputs": [],
   "source": [
    "#Exporting the Maps\n",
    "filename_3 = os.path.join(out_dir, 'lock_2019.tif')\n",
    "filename_4= os.path.join(out_dir, 'lock_2020.tif')\n",
    "geemap.ee_export_image(lock_2019, filename=filename_3, scale= 5000, region=roi ,file_per_band=False)\n",
    "geemap.ee_export_image(lock_2020, filename=filename_4, scale= 5000, region=roi ,file_per_band=False)\n"
   ]
  },
  {
   "cell_type": "code",
   "execution_count": null,
   "id": "ad915009",
   "metadata": {},
   "outputs": [],
   "source": [
    "#/Lockdown impacts on NO2\n",
    "Pre_NO2 = NO2.filterDate('2020-03-01', '2020-03-24').mean().multiply(1e6).clip(India)\n",
    "\n",
    "phase_I_NO2 = NO2.filterDate('2020-03-25', '2020-04-14').mean().multiply(1e6).clip(India)\n",
    "\n",
    "phase_II_NO2 = NO2.filterDate('2020-04-15', '2020-05-03').mean().multiply(1e6).clip(India)\n",
    "\n",
    "phase_III_NO2 = NO2.filterDate('2020-05-04', '2020-05-17').mean().multiply(1e6).clip(India)\n",
    "\n",
    "phase_IV_NO2 = NO2.filterDate('2020-05-18', '2020-05-31').mean().multiply(1e6).clip(India)"
   ]
  },
  {
   "cell_type": "code",
   "execution_count": null,
   "id": "f363244e",
   "metadata": {},
   "outputs": [],
   "source": [
    "Map.addLayer(Pre_NO2, vizParams, 'Pre_NO2')\n",
    "Map.addLayer(phase_I_NO2, vizParams, 'phase_I_NO2')\n",
    "Map.addLayer(phase_II_NO2, vizParams, 'phase_II_NO2')\n",
    "Map.addLayer(phase_III_NO2, vizParams, 'phase_III_NO2')\n",
    "Map.addLayer(phase_IV_NO2, vizParams, 'phase_IV_NO2')"
   ]
  },
  {
   "cell_type": "code",
   "execution_count": null,
   "id": "87e4f41e",
   "metadata": {},
   "outputs": [],
   "source": [
    "filename_5 = os.path.join(out_dir, 'Pre_NO2.tif')\n",
    "filename_6= os.path.join(out_dir, 'phase_I_NO2.tif')\n",
    "filename_7 = os.path.join(out_dir, 'phase_II_NO2.tif')\n",
    "filename_8= os.path.join(out_dir, 'phase_III_NO2.tif')\n",
    "filename_9= os.path.join(out_dir, 'phase_IV_NO2.tif')\n",
    "\n",
    "#Exporting the files\n",
    "geemap.ee_export_image(Pre_NO2, filename=filename_5, scale= 5000, region=roi, file_per_band=False)\n",
    "geemap.ee_export_image(phase_I_NO2, filename=filename_6, scale= 5000, region=roi, file_per_band=False)\n",
    "geemap.ee_export_image(phase_II_NO2, filename=filename_7, scale= 5000, region=roi, file_per_band=False)\n",
    "geemap.ee_export_image(phase_III_NO2, filename=filename_8, scale= 5000, region=roi, file_per_band=False)\n",
    "geemap.ee_export_image(phase_IV_NO2, filename=filename_9, scale= 5000, region=roi, file_per_band=False)"
   ]
  },
  {
   "cell_type": "markdown",
   "id": "edfd4361",
   "metadata": {},
   "source": [
    "# NO2 Analysis over Delhi"
   ]
  },
  {
   "cell_type": "code",
   "execution_count": null,
   "id": "d8ac80af",
   "metadata": {},
   "outputs": [],
   "source": [
    "Map_2 = geemap.Map(center = [28.70, 77.10], zoom=10)\n",
    "# Adding the Delhi shape file as a map layer\n",
    "Delhi_shp = 'Input/Delhi.shp'\n",
    "Delhi = geemap.shp_to_ee(Delhi_shp)\n",
    "Map_2.addLayer(Delhi, {}, 'Delhi')\n",
    "Map_2"
   ]
  },
  {
   "cell_type": "code",
   "execution_count": null,
   "id": "76bc0808",
   "metadata": {},
   "outputs": [],
   "source": [
    "#Lockdown impact over Delhi NO2 level in different phases\n",
    "Pre_NO2_Delhi = NO2.filterDate('2020-03-01', '2020-03-24').mean().multiply(1e6).clip(Delhi);\n",
    "\n",
    "phase_I_NO2_Delhi = NO2.filterDate('2020-03-25', '2020-04-14').mean().multiply(1e6).clip(Delhi);\n",
    "\n",
    "phase_II_NO2_Delhi = NO2.filterDate('2020-04-15', '2020-05-03').mean().multiply(1e6).clip(Delhi);\n",
    "\n",
    "phase_III_NO2_Delhi = NO2.filterDate('2020-05-04', '2020-05-17').mean().multiply(1e6).clip(Delhi);\n",
    "\n",
    "phase_IV_NO2_Delhi = NO2.filterDate('2020-05-18', '2020-05-31').mean().multiply(1e6).clip(Delhi);"
   ]
  },
  {
   "cell_type": "code",
   "execution_count": null,
   "id": "20519186",
   "metadata": {},
   "outputs": [],
   "source": [
    "Map_2.addLayer(Pre_NO2_Delhi, vizParams, 'Pre_NO2_Delhi');\n",
    "Map_2.addLayer(phase_I_NO2_Delhi, vizParams, 'phase_I_NO2_Delhi');\n",
    "Map_2.addLayer(phase_II_NO2_Delhi, vizParams, 'phase_II_NO2_Delhi');\n",
    "Map_2.addLayer(phase_III_NO2_Delhi, vizParams, 'phase_III_NO2_Delhi');\n",
    "Map_2.addLayer(phase_IV_NO2_Delhi, vizParams, 'phase_IV_NO2_Delhi');\n",
    "\n",
    "palette = ['blue','aqua', 'yellow', 'orange', 'red']\n",
    "Map_2.add_colorbar(palette, vmin=0, vmax=100, layer_name='NO2', position='bottomright')"
   ]
  },
  {
   "cell_type": "code",
   "execution_count": null,
   "id": "1eefd34f",
   "metadata": {},
   "outputs": [],
   "source": [
    "filename_10 = os.path.join(out_dir, 'Pre_NO2_Delhi.tif')\n",
    "filename_11= os.path.join(out_dir, 'phase_I_NO2_Delhi.tif')\n",
    "filename_12 = os.path.join(out_dir, 'phase_II_NO2_Delhi.tif')\n",
    "filename_13= os.path.join(out_dir, 'phase_III_NO2_Delhi.tif')\n",
    "filename_14= os.path.join(out_dir, 'phase_IV_NO2_Delhi.tif')\n",
    "\n",
    "roi_1 = Delhi.geometry()\n",
    "\n",
    "#Exporting the files\n",
    "geemap.ee_export_image(Pre_NO2_Delhi, filename=filename_10, scale= 30, region=roi_1, file_per_band=False)\n",
    "geemap.ee_export_image(phase_I_NO2_Delhi, filename=filename_11, scale= 30, region=roi_1, file_per_band=False)\n",
    "geemap.ee_export_image(phase_II_NO2_Delhi, filename=filename_12, scale= 30, region=roi_1, file_per_band=False)\n",
    "geemap.ee_export_image(phase_III_NO2_Delhi, filename=filename_13, scale= 30, region=roi_1, file_per_band=False)\n",
    "geemap.ee_export_image(phase_IV_NO2_Delhi, filename=filename_14, scale= 30, region=roi_1, file_per_band=False)\n"
   ]
  },
  {
   "cell_type": "markdown",
   "id": "36655f7e",
   "metadata": {},
   "source": [
    "# NO2 Analysis over Banglore"
   ]
  },
  {
   "cell_type": "code",
   "execution_count": null,
   "id": "c46dfce3",
   "metadata": {},
   "outputs": [],
   "source": [
    "# Opening a new map and adding the Bangalore shape file as a layer\n",
    "Map_3 = geemap.Map(center = [12.98, 77.59], zoom=10)\n",
    "\n",
    "Bang_shp = 'Input/Banglore_urban.shp'\n",
    "Bang = geemap.shp_to_ee(Bang_shp)\n",
    "Map_3.addLayer(Bang, {}, 'Bang')\n",
    "Map_3"
   ]
  },
  {
   "cell_type": "code",
   "execution_count": null,
   "id": "c6c23757",
   "metadata": {},
   "outputs": [],
   "source": [
    "#Lockdown impact over Bangalore NO2 level\n",
    "Pre_NO2_Bang = NO2.filterDate('2020-03-01', '2020-03-24').mean().multiply(1e6).clip(Bang);\n",
    "\n",
    "phase_I_NO2_Bang = NO2.filterDate('2020-03-25', '2020-04-14').mean().multiply(1e6).clip(Bang);\n",
    "\n",
    "phase_II_NO2_Bang = NO2.filterDate('2020-04-15', '2020-05-03').mean().multiply(1e6).clip(Bang);\n",
    "\n",
    "phase_III_NO2_Bang = NO2.filterDate('2020-05-04', '2020-05-17').mean().multiply(1e6).clip(Bang);\n",
    "\n",
    "phase_IV_NO2_Bang = NO2.filterDate('2020-05-18', '2020-05-31').mean().multiply(1e6).clip(Bang);"
   ]
  },
  {
   "cell_type": "code",
   "execution_count": null,
   "id": "36a53c22",
   "metadata": {},
   "outputs": [],
   "source": [
    "Map_3.addLayer(Pre_NO2_Bang, vizParams, 'Pre_NO2_Bang');\n",
    "Map_3.addLayer(phase_I_NO2_Bang, vizParams, 'phase_I_NO2_Bang');\n",
    "Map_3.addLayer(phase_II_NO2_Bang, vizParams, 'phase_II_NO2_Bang');\n",
    "Map_3.addLayer(phase_III_NO2_Bang, vizParams, 'phase_III_NO2_Bang');\n",
    "Map_3.addLayer(phase_IV_NO2_Bang, vizParams, 'phase_IV_NO2_Bang');\n",
    "\n",
    "palette = ['blue','aqua', 'yellow', 'orange', 'red']\n",
    "Map_3.add_colorbar(palette, vmin=0, vmax=100, layer_name='NO2', position='bottomright')"
   ]
  },
  {
   "cell_type": "code",
   "execution_count": null,
   "id": "78c45710",
   "metadata": {},
   "outputs": [],
   "source": [
    "filename_15 = os.path.join(out_dir, 'Pre_NO2_Bang.tif')\n",
    "filename_16= os.path.join(out_dir, 'phase_I_NO2_Bang.tif')\n",
    "filename_17 = os.path.join(out_dir, 'phase_II_NO2_Bang.tif')\n",
    "filename_18= os.path.join(out_dir, 'phase_III_NO2_Bang.tif')\n",
    "filename_19= os.path.join(out_dir, 'phase_IV_NO2_Bang.tif')\n",
    "\n",
    "roi_2 = Bang.geometry()\n",
    "\n",
    "#Exporting the files\n",
    "geemap.ee_export_image(Pre_NO2_Bang, filename=filename_15, scale= 30, region=roi_2, file_per_band=False)\n",
    "geemap.ee_export_image(phase_I_NO2_Bang, filename=filename_16, scale= 30, region=roi_2, file_per_band=False)\n",
    "geemap.ee_export_image(phase_II_NO2_Bang, filename=filename_17, scale= 30, region=roi_2, file_per_band=False)\n",
    "geemap.ee_export_image(phase_III_NO2_Bang, filename=filename_18, scale= 30, region=roi_2, file_per_band=False)\n",
    "geemap.ee_export_image(phase_IV_NO2_Bang, filename=filename_19, scale= 30, region=roi_2, file_per_band=False)\n"
   ]
  },
  {
   "cell_type": "markdown",
   "id": "10e2f745",
   "metadata": {},
   "source": [
    "# Time_Series Analysis"
   ]
  },
  {
   "cell_type": "code",
   "execution_count": null,
   "id": "aca83efa",
   "metadata": {},
   "outputs": [],
   "source": [
    "import matplotlib.pyplot as plt\n",
    "import pandas as pd\n",
    "import json\n",
    "import seaborn as sns"
   ]
  },
  {
   "cell_type": "code",
   "execution_count": null,
   "id": "32bce607",
   "metadata": {},
   "outputs": [],
   "source": [
    "# Creatind a buffer of 500 m around our Point Of Interest (Lodhi Road CPCB station, Delhi and BTM Banglore station)\n",
    "roi = ee.Geometry.Point(28.70, 77.10).buffer(500)       # Lodhi Road CPCB, Delhi\n",
    "#roi = ee.Geometry.Point(12.91, 77.59).buffer(500)       # coardinate for the BTM Layout, Banglore-CPCB station\n",
    "No2 = ee.ImageCollection('COPERNICUS/S5P/NRTI/L3_NO2') \\\n",
    "              .filter(ee.Filter.Or(\n",
    "                  ee.Filter.date('2019-03-01', '2019-05-31'),\n",
    "                  ee.Filter.date('2020-03-01', '2020-05-31')))\n",
    "# We will extract the NO2 levels at these locations to compare with the AQI obsewrvations\n",
    "#Here data is exported only for the Delhi location, in the similar way we can export for the Bangalore station"
   ]
  },
  {
   "cell_type": "code",
   "execution_count": null,
   "id": "63f560f6",
   "metadata": {},
   "outputs": [],
   "source": [
    "#For the time-series we can't deal with an image collection, so will create a function that takes a single image as an input and \n",
    "#reduces the data in a given region (roi). We’ll get the mean of the pixels in 500 m buffer and set the scale to 30.\n",
    "#We’ll then need to set this reduced info as a property (let's say “mean”) in our image so that the output of our function \n",
    "#is to get the mean NO2 of a particular region, and add this as a property on our image along with the date.\n",
    "\n",
    "def roi_mean(img):\n",
    "    mean = img.reduceRegion(reducer=ee.Reducer.mean(), geometry=roi, scale=30).get('tropospheric_NO2_column_number_density')\n",
    "    return img.set('date', img.date().format()).set('mean',mean)"
   ]
  },
  {
   "cell_type": "code",
   "execution_count": null,
   "id": "92dcc779",
   "metadata": {},
   "outputs": [],
   "source": [
    "# Now, We will map this function to every image in our collection to get a new ImageCollection\n",
    "roi_reduced_imgs = No2.map(roi_mean)  #for Delhi"
   ]
  },
  {
   "cell_type": "code",
   "execution_count": null,
   "id": "a59792e6",
   "metadata": {},
   "outputs": [],
   "source": [
    "#To convert into a pandas dataframe, we don't want an ImageCollection;  \n",
    "#so we will reduce our images to a list of lists:\n",
    "#for each image, there are 2-element list that contains that images date and mean_NO2 value (for our roi)\n",
    "#each of these lists are themselves elements in our outer list, which is what we’ll convert into a dataframe\n",
    "\n",
    "imgs_list = roi_reduced_imgs.reduceColumns(ee.Reducer.toList(2), ['date','mean']).values().get(0)\n"
   ]
  },
  {
   "cell_type": "code",
   "execution_count": null,
   "id": "4e402eed",
   "metadata": {},
   "outputs": [],
   "source": [
    "# converring into a df\n",
    "df = pd.DataFrame(imgs_list.getInfo(), columns=['date','mean'])\n",
    "\n",
    "#df"
   ]
  },
  {
   "cell_type": "code",
   "execution_count": null,
   "id": "14e6df6a",
   "metadata": {},
   "outputs": [],
   "source": [
    "# converting from datetime to date coloumn\n",
    "df['date'] = pd.to_datetime(df['date'])\n",
    "\n",
    "df = df.set_index('date')\n",
    "\n",
    "#df"
   ]
  },
  {
   "cell_type": "code",
   "execution_count": null,
   "id": "cd5f4bc4",
   "metadata": {},
   "outputs": [],
   "source": [
    "#df.to_csv('Output/Delhi.csv')"
   ]
  },
  {
   "cell_type": "code",
   "execution_count": null,
   "id": "f66bbbaa",
   "metadata": {},
   "outputs": [],
   "source": [
    "df = pd.read_excel('Input/NO2.xlsx', sheet_name='Delhi')\n",
    "# This file contains data for both locatins Delhi and Bangalore"
   ]
  },
  {
   "cell_type": "code",
   "execution_count": null,
   "id": "f07bc6f8",
   "metadata": {},
   "outputs": [],
   "source": [
    "fig, ax = plt.subplots(figsize=(20,6))\n",
    "\n",
    "ax.set_xlabel('Date', fontsize=18)\n",
    "ax.set_ylabel('AQI)', fontsize=18)\n",
    "ax.set_ylim(50, 400)\n",
    "\n",
    "ax.bar(df['Date'], df['AQI_2020'], color='lightblue', label='2020 AQI', align='center')\n",
    "ax.bar(df['Date'], df['AQI_2019'], color='pink', label='2019 AQI', align='center')\n",
    "\n",
    "ax.legend(loc='upper left', fontsize=14)\n",
    "ax.tick_params(axis='y')\n",
    "\n",
    "\n",
    "ax1 = ax.twinx()  # initiate a second axes that shares the same x-axis\n",
    "\n",
    "ax1.set_ylabel('NO2(µmol/m^2', fontsize=18)  # we already handled the x-label with ax\n",
    "ax1.set_ylim(0, 400)\n",
    "ax1.plot(df['Date'], df['NO2_2019'], color='red', label='2019 NO2' )\n",
    "ax1.plot(df['Date'], df['NO2_2020'], color='blue', label='2020 NO2')\n",
    "\n",
    "ax1.legend(loc='upper right', fontsize=14)\n",
    "ax1.tick_params(axis='y')\n",
    "\n",
    "\n",
    "\n",
    "fig.tight_layout()  # otherwise the right y-label is slightly clipped\n",
    "\n",
    "plt.rcParams[\"font.family\"] = \"serif\"\n",
    "plt.rcParams[\"font.serif\"] = \"Times New Roman\"\n",
    "plt.rcParams[\"font.weight\"] = \"bold\"\n",
    "plt.rcParams[\"axes.labelweight\"] = \"bold\"\n",
    "plt.savefig('Output/Delhi.png', dpi=500, bbox_inches='tight')\n",
    "plt.show()  "
   ]
  },
  {
   "cell_type": "code",
   "execution_count": null,
   "id": "1b6ada20",
   "metadata": {},
   "outputs": [],
   "source": [
    "df = pd.read_excel('Input/NO2.xlsx', sheet_name='Banglore')"
   ]
  },
  {
   "cell_type": "code",
   "execution_count": null,
   "id": "2a439628",
   "metadata": {},
   "outputs": [],
   "source": [
    "fig, ax = plt.subplots(figsize=(20,6))\n",
    "\n",
    "ax.set_xlabel('Date', fontsize=18)\n",
    "ax.set_ylabel('AQI)', fontsize=18)\n",
    "ax.set_ylim(50, 400)\n",
    "\n",
    "ax.bar(df['Date'], df['AQI_2020'], color='lightblue', label='2020 AQI', align='center')\n",
    "ax.bar(df['Date'], df['AQI_2019'], color='pink', label='2019 AQI', align='center')\n",
    "\n",
    "ax.legend(loc='upper left', fontsize=14)\n",
    "ax.tick_params(axis='y')\n",
    "\n",
    "\n",
    "ax1 = ax.twinx()  # initiate a second axes that shares the same x-axis\n",
    "\n",
    "ax1.set_ylabel('NO2(µmol/m^2', fontsize=18)  # we already handled the x-label with ax\n",
    "ax1.set_ylim(0, 100)\n",
    "ax1.plot(df['Date'], df['NO2_2019'], color='red', label='2019 NO2' )\n",
    "ax1.plot(df['Date'], df['NO2_2020'], color='blue', label='2020 NO2')\n",
    "\n",
    "ax1.legend(loc='upper right', fontsize=14)\n",
    "ax1.tick_params(axis='y')\n",
    "\n",
    "\n",
    "\n",
    "fig.tight_layout()  # otherwise the right y-label is slightly clipped\n",
    "\n",
    "plt.rcParams[\"font.family\"] = \"serif\"\n",
    "plt.rcParams[\"font.serif\"] = \"Times New Roman\"\n",
    "plt.rcParams[\"font.weight\"] = \"bold\"\n",
    "plt.rcParams[\"axes.labelweight\"] = \"bold\"\n",
    "plt.savefig('Output/Bang.png', dpi=500, bbox_inches='tight')\n",
    "plt.show()  "
   ]
  },
  {
   "cell_type": "code",
   "execution_count": null,
   "id": "9c32fe7b",
   "metadata": {},
   "outputs": [],
   "source": []
  }
 ],
 "metadata": {
  "kernelspec": {
   "display_name": "Python 3 (ipykernel)",
   "language": "python",
   "name": "python3"
  },
  "language_info": {
   "codemirror_mode": {
    "name": "ipython",
    "version": 3
   },
   "file_extension": ".py",
   "mimetype": "text/x-python",
   "name": "python",
   "nbconvert_exporter": "python",
   "pygments_lexer": "ipython3",
   "version": "3.8.11"
  }
 },
 "nbformat": 4,
 "nbformat_minor": 5
}
